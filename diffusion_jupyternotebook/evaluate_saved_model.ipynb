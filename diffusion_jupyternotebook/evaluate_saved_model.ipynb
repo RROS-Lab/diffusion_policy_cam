{
 "cells": [
  {
   "cell_type": "code",
   "execution_count": 3,
   "metadata": {},
   "outputs": [],
   "source": [
    "import sys\n",
    "import os\n",
    "\n",
    "# Get the current working directory\n",
    "current_dir = os.getcwd()\n",
    "\n",
    "# Get the parent directory\n",
    "parent_dir = os.path.abspath(os.path.join(current_dir, '..'))\n",
    "\n",
    "# Add the parent directory to sys.path\n",
    "sys.path.append(parent_dir)"
   ]
  },
  {
   "cell_type": "code",
   "execution_count": 4,
   "metadata": {},
   "outputs": [
    {
     "name": "stdout",
     "output_type": "stream",
     "text": [
      "Requirement already satisfied: numpy<2.0.0 in /home/cam/anaconda3/lib/python3.11/site-packages (1.26.4)\n",
      "Requirement already satisfied: pandas in /home/cam/anaconda3/lib/python3.11/site-packages (2.1.4)\n",
      "Requirement already satisfied: matplotlib in /home/cam/anaconda3/lib/python3.11/site-packages (3.8.0)\n",
      "Requirement already satisfied: tqdm in /home/cam/anaconda3/lib/python3.11/site-packages (4.65.0)\n",
      "Requirement already satisfied: torch in /home/cam/anaconda3/lib/python3.11/site-packages (2.4.0)\n",
      "Requirement already satisfied: diffusers in /home/cam/anaconda3/lib/python3.11/site-packages (0.29.2)\n",
      "Requirement already satisfied: scipy in /home/cam/anaconda3/lib/python3.11/site-packages (1.11.4)\n",
      "Requirement already satisfied: zarr in /home/cam/anaconda3/lib/python3.11/site-packages (2.18.2)\n",
      "Requirement already satisfied: python-dateutil>=2.8.2 in /home/cam/anaconda3/lib/python3.11/site-packages (from pandas) (2.8.2)\n",
      "Requirement already satisfied: pytz>=2020.1 in /home/cam/anaconda3/lib/python3.11/site-packages (from pandas) (2023.3.post1)\n",
      "Requirement already satisfied: tzdata>=2022.1 in /home/cam/anaconda3/lib/python3.11/site-packages (from pandas) (2023.3)\n",
      "Requirement already satisfied: contourpy>=1.0.1 in /home/cam/anaconda3/lib/python3.11/site-packages (from matplotlib) (1.2.0)\n",
      "Requirement already satisfied: cycler>=0.10 in /home/cam/anaconda3/lib/python3.11/site-packages (from matplotlib) (0.11.0)\n",
      "Requirement already satisfied: fonttools>=4.22.0 in /home/cam/anaconda3/lib/python3.11/site-packages (from matplotlib) (4.25.0)\n",
      "Requirement already satisfied: kiwisolver>=1.0.1 in /home/cam/anaconda3/lib/python3.11/site-packages (from matplotlib) (1.4.4)\n",
      "Requirement already satisfied: packaging>=20.0 in /home/cam/anaconda3/lib/python3.11/site-packages (from matplotlib) (23.1)\n",
      "Requirement already satisfied: pillow>=6.2.0 in /home/cam/anaconda3/lib/python3.11/site-packages (from matplotlib) (10.2.0)\n",
      "Requirement already satisfied: pyparsing>=2.3.1 in /home/cam/anaconda3/lib/python3.11/site-packages (from matplotlib) (3.0.9)\n",
      "Requirement already satisfied: filelock in /home/cam/anaconda3/lib/python3.11/site-packages (from torch) (3.13.1)\n",
      "Requirement already satisfied: typing-extensions>=4.8.0 in /home/cam/anaconda3/lib/python3.11/site-packages (from torch) (4.9.0)\n",
      "Requirement already satisfied: sympy in /home/cam/anaconda3/lib/python3.11/site-packages (from torch) (1.12)\n",
      "Requirement already satisfied: networkx in /home/cam/anaconda3/lib/python3.11/site-packages (from torch) (3.1)\n",
      "Requirement already satisfied: jinja2 in /home/cam/anaconda3/lib/python3.11/site-packages (from torch) (3.1.3)\n",
      "Requirement already satisfied: fsspec in /home/cam/anaconda3/lib/python3.11/site-packages (from torch) (2023.10.0)\n",
      "Requirement already satisfied: nvidia-cuda-nvrtc-cu12==12.1.105 in /home/cam/anaconda3/lib/python3.11/site-packages (from torch) (12.1.105)\n",
      "Requirement already satisfied: nvidia-cuda-runtime-cu12==12.1.105 in /home/cam/anaconda3/lib/python3.11/site-packages (from torch) (12.1.105)\n",
      "Requirement already satisfied: nvidia-cuda-cupti-cu12==12.1.105 in /home/cam/anaconda3/lib/python3.11/site-packages (from torch) (12.1.105)\n",
      "Requirement already satisfied: nvidia-cudnn-cu12==9.1.0.70 in /home/cam/anaconda3/lib/python3.11/site-packages (from torch) (9.1.0.70)\n",
      "Requirement already satisfied: nvidia-cublas-cu12==12.1.3.1 in /home/cam/anaconda3/lib/python3.11/site-packages (from torch) (12.1.3.1)\n",
      "Requirement already satisfied: nvidia-cufft-cu12==11.0.2.54 in /home/cam/anaconda3/lib/python3.11/site-packages (from torch) (11.0.2.54)\n",
      "Requirement already satisfied: nvidia-curand-cu12==10.3.2.106 in /home/cam/anaconda3/lib/python3.11/site-packages (from torch) (10.3.2.106)\n",
      "Requirement already satisfied: nvidia-cusolver-cu12==11.4.5.107 in /home/cam/anaconda3/lib/python3.11/site-packages (from torch) (11.4.5.107)\n",
      "Requirement already satisfied: nvidia-cusparse-cu12==12.1.0.106 in /home/cam/anaconda3/lib/python3.11/site-packages (from torch) (12.1.0.106)\n",
      "Requirement already satisfied: nvidia-nccl-cu12==2.20.5 in /home/cam/anaconda3/lib/python3.11/site-packages (from torch) (2.20.5)\n",
      "Requirement already satisfied: nvidia-nvtx-cu12==12.1.105 in /home/cam/anaconda3/lib/python3.11/site-packages (from torch) (12.1.105)\n",
      "Requirement already satisfied: triton==3.0.0 in /home/cam/anaconda3/lib/python3.11/site-packages (from torch) (3.0.0)\n",
      "Requirement already satisfied: nvidia-nvjitlink-cu12 in /home/cam/anaconda3/lib/python3.11/site-packages (from nvidia-cusolver-cu12==11.4.5.107->torch) (12.6.20)\n",
      "Requirement already satisfied: importlib-metadata in /home/cam/anaconda3/lib/python3.11/site-packages (from diffusers) (7.0.1)\n",
      "Requirement already satisfied: huggingface-hub>=0.23.2 in /home/cam/anaconda3/lib/python3.11/site-packages (from diffusers) (0.24.5)\n",
      "Requirement already satisfied: regex!=2019.12.17 in /home/cam/anaconda3/lib/python3.11/site-packages (from diffusers) (2023.10.3)\n",
      "Requirement already satisfied: requests in /home/cam/anaconda3/lib/python3.11/site-packages (from diffusers) (2.31.0)\n",
      "Requirement already satisfied: safetensors>=0.3.1 in /home/cam/anaconda3/lib/python3.11/site-packages (from diffusers) (0.4.4)\n",
      "Requirement already satisfied: asciitree in /home/cam/anaconda3/lib/python3.11/site-packages (from zarr) (0.3.3)\n",
      "Requirement already satisfied: numcodecs>=0.10.0 in /home/cam/anaconda3/lib/python3.11/site-packages (from zarr) (0.13.0)\n",
      "Requirement already satisfied: fasteners in /home/cam/anaconda3/lib/python3.11/site-packages (from zarr) (0.19)\n",
      "Requirement already satisfied: pyyaml>=5.1 in /home/cam/anaconda3/lib/python3.11/site-packages (from huggingface-hub>=0.23.2->diffusers) (6.0.1)\n",
      "Requirement already satisfied: six>=1.5 in /home/cam/anaconda3/lib/python3.11/site-packages (from python-dateutil>=2.8.2->pandas) (1.16.0)\n",
      "Requirement already satisfied: zipp>=0.5 in /home/cam/anaconda3/lib/python3.11/site-packages (from importlib-metadata->diffusers) (3.17.0)\n",
      "Requirement already satisfied: MarkupSafe>=2.0 in /home/cam/anaconda3/lib/python3.11/site-packages (from jinja2->torch) (2.1.3)\n",
      "Requirement already satisfied: charset-normalizer<4,>=2 in /home/cam/anaconda3/lib/python3.11/site-packages (from requests->diffusers) (2.0.4)\n",
      "Requirement already satisfied: idna<4,>=2.5 in /home/cam/anaconda3/lib/python3.11/site-packages (from requests->diffusers) (3.4)\n",
      "Requirement already satisfied: urllib3<3,>=1.21.1 in /home/cam/anaconda3/lib/python3.11/site-packages (from requests->diffusers) (2.0.7)\n",
      "Requirement already satisfied: certifi>=2017.4.17 in /home/cam/anaconda3/lib/python3.11/site-packages (from requests->diffusers) (2024.2.2)\n",
      "Requirement already satisfied: mpmath>=0.19 in /home/cam/anaconda3/lib/python3.11/site-packages (from sympy->torch) (1.3.0)\n"
     ]
    }
   ],
   "source": [
    "!pip install \"numpy<2.0.0\" pandas matplotlib tqdm torch diffusers scipy zarr"
   ]
  },
  {
   "cell_type": "code",
   "execution_count": 5,
   "metadata": {},
   "outputs": [],
   "source": [
    "import numpy as np\n",
    "import os\n",
    "import time\n",
    "import torch\n",
    "import torch.nn as nn\n",
    "import pickle\n",
    "import warnings\n",
    "warnings.filterwarnings(\"ignore\")\n",
    "import pandas as pd\n",
    "from diffusers.schedulers.scheduling_ddpm import DDPMScheduler\n",
    "from diffusers.training_utils import EMAModel\n",
    "from diffusers.optimization import get_scheduler\n",
    "from tqdm.auto import tqdm\n",
    "import submodules.data_filter as _df\n",
    "import diffusion_pipline.data_processing as dproc\n",
    "import diffusion_pipline.model as md\n",
    "import submodules.cleaned_file_parser as cfp\n"
   ]
  },
  {
   "cell_type": "code",
   "execution_count": 6,
   "metadata": {},
   "outputs": [],
   "source": [
    "checkpoint_path = '/home/cam/Documents/raj/diffusion_policy_cam/no-sync/checkpoints/checkpoint_3Body_9_markers_960_SSSS_epoch_119.pth'\n",
    "\n",
    "checkpoint = torch.load(checkpoint_path)"
   ]
  },
  {
   "cell_type": "code",
   "execution_count": 7,
   "metadata": {},
   "outputs": [
    {
     "data": {
      "text/plain": [
       "dict_keys(['epoch', 'model_state_dict', 'optimizer_state_dict', 'scheduler_state_dict', 'ema_state_dict', 'len_dataloader', 'dataset_stats'])"
      ]
     },
     "execution_count": 7,
     "metadata": {},
     "output_type": "execute_result"
    }
   ],
   "source": [
    "checkpoint.keys()"
   ]
  },
  {
   "cell_type": "code",
   "execution_count": 8,
   "metadata": {},
   "outputs": [
    {
     "name": "stdout",
     "output_type": "stream",
     "text": [
      "number of parameters: 6.652879e+07\n"
     ]
    }
   ],
   "source": [
    "# Parameters corrsponding to\n",
    "save_dir = '/home/cam/Documents/raj/diffusion_policy_cam/no-sync/test_9_markers_960/'\n",
    "test_base_dir = '/home/cam/Documents/raj/diffusion_policy_cam/no-sync/test_9_markers_960/'\n",
    "\n",
    "num_epochs =checkpoint['num_epochs']\n",
    "obs_dim = checkpoint['obs_dim']\n",
    "action_dim = checkpoint['action_dim']\n",
    "# parameters\n",
    "pred_horizon = checkpoint['pred_horizon']\n",
    "obs_horizon = checkpoint['obs_horizon']\n",
    "action_horizon = checkpoint['action_horizon']\n",
    "target_fps = checkpoint['target_fps']\n",
    "\n",
    "action_item = checkpoint['action_item']\n",
    "obs_item = checkpoint['obs_item']\n",
    "\n",
    "\n",
    "# create network object\n",
    "noise_pred_net = md.ConditionalUnet1D(\n",
    "    input_dim=action_dim,\n",
    "    global_cond_dim=obs_dim*obs_horizon\n",
    ")\n",
    "\n",
    "# example inputs\n",
    "noised_action = torch.randn((1, pred_horizon, action_dim))\n",
    "obs = torch.zeros((1, obs_horizon, obs_dim))\n",
    "diffusion_iter = torch.zeros((1,))\n",
    "\n",
    "# the noise prediction network\n",
    "# takes noisy action, diffusion iteration and observation as input\n",
    "# predicts the noise added to action\n",
    "noise = noise_pred_net(\n",
    "    sample=noised_action,\n",
    "    timestep=diffusion_iter,\n",
    "    global_cond=obs.flatten(start_dim=1))\n",
    "\n",
    "# illustration of removing noise\n",
    "# the actual noise removal is performed by NoiseScheduler\n",
    "# and is dependent on the diffusion noise schedule\n",
    "denoised_action = noised_action - noise\n",
    "\n",
    "# for this demo, we use DDPMScheduler with 100 diffusion iterations\n",
    "num_diffusion_iters = 100\n",
    "noise_scheduler = DDPMScheduler(\n",
    "    num_train_timesteps=num_diffusion_iters,\n",
    "    # the choise of beta schedule has big impact on performance\n",
    "    # we found squared cosine works the best\n",
    "    beta_schedule='squaredcos_cap_v2',\n",
    "    # clip output to [-1,1] to improve stability\n",
    "    clip_sample=True,\n",
    "    # our network predicts noise (instead of denoised action)\n",
    "    prediction_type='epsilon'\n",
    ")\n",
    "\n",
    "# device transfer\n",
    "device = torch.device('cuda')\n",
    "_ = noise_pred_net.to(device)\n",
    "\n",
    "# Exponential Moving Average\n",
    "# accelerates training and improves stability\n",
    "# holds a copy of the model weights\n",
    "ema = EMAModel(\n",
    "    parameters=noise_pred_net.parameters(),\n",
    "    power=0.75)\n",
    "\n",
    "# Standard ADAM optimizer\n",
    "# Note that EMA parametesr are not optimized\n",
    "optimizer = torch.optim.AdamW(\n",
    "    params=noise_pred_net.parameters(),\n",
    "    lr=1e-4, weight_decay=1e-6)\n",
    "\n",
    "# Cosine LR schedule with linear warmup\n",
    "lr_scheduler = get_scheduler(\n",
    "    name='cosine',\n",
    "    optimizer=optimizer,\n",
    "    num_warmup_steps=200,\n",
    "    num_training_steps=checkpoint['len_dataloader'] * num_epochs\n",
    ")\n",
    "\n",
    "ema_noise_pred_net = noise_pred_net"
   ]
  },
  {
   "cell_type": "code",
   "execution_count": 9,
   "metadata": {},
   "outputs": [],
   "source": [
    "noise_pred_net.load_state_dict(checkpoint['model_state_dict'])\n",
    "optimizer.load_state_dict(checkpoint['optimizer_state_dict'])\n",
    "lr_scheduler.load_state_dict(checkpoint['scheduler_state_dict'])\n",
    "ema.load_state_dict(checkpoint['ema_state_dict'])\n",
    "start_epoch = checkpoint['epoch'] + 1"
   ]
  },
  {
   "cell_type": "code",
   "execution_count": 10,
   "metadata": {},
   "outputs": [],
   "source": [
    "# Load data\n",
    "dict_of_df_rigid_test = {}\n",
    "dict_of_df_marker_test = {}\n",
    "name = []\n",
    "\n",
    "# for file in os.listdir(test_base_dir):\n",
    "#     name.append(file)\n",
    "for file in os.listdir(test_base_dir):\n",
    "    if file.endswith(\".csv\"):\n",
    "        name.append(file)\n",
    "        path_name = test_base_dir + file\n",
    "        data_test = cfp.DataParser.from_quat_file(file_path = path_name, target_fps=target_fps, filter=True, window_size=15, polyorder=3)\n",
    "\n",
    "        marker_data = data_test.get_marker_Txyz()\n",
    "        data_state_dict = data_test.get_rigid_TxyzRxyz()\n",
    "\n",
    "        dicts = [data_state_dict, marker_data]\n",
    "        trimmed_dicts = _df.trim_lists_in_dicts(dicts)\n",
    "\n",
    "        \n",
    "        dict_of_df_rigid_test[file] = trimmed_dicts[0]\n",
    "        dict_of_df_marker_test[file] = trimmed_dicts[1]\n",
    "\n",
    "\n",
    "item_name_test = data_test.rigid_bodies\n",
    "marker_name_test = data_test.markers\n",
    "\n",
    "if len(dict_of_df_rigid_test) == len(dict_of_df_marker_test):\n",
    "\n",
    "    rigiddataset_test, index_test = _df.episode_combiner(dict_of_df_rigid_test, item_name_test)\n",
    "    markerdataset_test, _ = _df.episode_combiner(dict_of_df_marker_test, marker_name_test)\n",
    "\n",
    "indexes = index_test[action_item[0]]\n",
    "action = []\n",
    "obs = []\n",
    "for i in range(indexes[-1]):\n",
    "    # a = []\n",
    "    a = np.concatenate([rigiddataset_test[item][i] for item in action_item])\n",
    "    # print(a)\n",
    "\n",
    "    b = np.concatenate([rigiddataset_test[item][i] for item in action_item] + [markerdataset_test[item][i] for item in marker_name_test])\n",
    "    # print(b)\n",
    "    \n",
    "    action.append(a)\n",
    "    obs.append(b)\n",
    "    \n",
    "# All demonstration episodes are concatinated in the first dimension N\n",
    "action = np.array(action, dtype=np.float64)\n",
    "obs = np.array(obs, dtype=np.float64)\n",
    "\n",
    "# Initialize lists to store segmented data\n",
    "splits_obs = []\n",
    "splits_action = []\n",
    "previous_index = 0\n",
    "\n",
    "# Iterate through episode_ends and slice action and obs accordingly\n",
    "for index in indexes:\n",
    "    splits_obs.append(obs[previous_index:index + 1])  # Include index itself in the slice\n",
    "    splits_action.append(action[previous_index:index + 1])\n",
    "    previous_index = index + 1"
   ]
  },
  {
   "cell_type": "code",
   "execution_count": 11,
   "metadata": {},
   "outputs": [
    {
     "data": {
      "text/plain": [
       "45"
      ]
     },
     "execution_count": 11,
     "metadata": {},
     "output_type": "execute_result"
    }
   ],
   "source": [
    "len(splits_obs[0][0])"
   ]
  },
  {
   "cell_type": "code",
   "execution_count": 12,
   "metadata": {},
   "outputs": [
    {
     "data": {
      "text/plain": [
       "{'A2', 'B1', 'B2', 'B4', 'B5', 'C2', 'D2', 'D3', 'E5'}"
      ]
     },
     "execution_count": 12,
     "metadata": {},
     "output_type": "execute_result"
    }
   ],
   "source": [
    "marker_name_test"
   ]
  },
  {
   "cell_type": "code",
   "execution_count": 13,
   "metadata": {},
   "outputs": [
    {
     "data": {
      "application/vnd.jupyter.widget-view+json": {
       "model_id": "09be74f32c0444599f9bea2baaffe688",
       "version_major": 2,
       "version_minor": 0
      },
      "text/plain": [
       "Eval:   0%|          | 0/1389 [00:00<?, ?it/s]"
      ]
     },
     "metadata": {},
     "output_type": "display_data"
    },
    {
     "data": {
      "application/vnd.jupyter.widget-view+json": {
       "model_id": "372e59c7be4e428fa28e7b7133ed54bd",
       "version_major": 2,
       "version_minor": 0
      },
      "text/plain": [
       "Eval:   0%|          | 0/1568 [00:00<?, ?it/s]"
      ]
     },
     "metadata": {},
     "output_type": "display_data"
    },
    {
     "data": {
      "application/vnd.jupyter.widget-view+json": {
       "model_id": "0ad7a2534c364a7dad53b78637483966",
       "version_major": 2,
       "version_minor": 0
      },
      "text/plain": [
       "Eval:   0%|          | 0/1585 [00:00<?, ?it/s]"
      ]
     },
     "metadata": {},
     "output_type": "display_data"
    },
    {
     "data": {
      "application/vnd.jupyter.widget-view+json": {
       "model_id": "3d05eae87916431c89f6e384b314397e",
       "version_major": 2,
       "version_minor": 0
      },
      "text/plain": [
       "Eval:   0%|          | 0/1362 [00:00<?, ?it/s]"
      ]
     },
     "metadata": {},
     "output_type": "display_data"
    },
    {
     "data": {
      "application/vnd.jupyter.widget-view+json": {
       "model_id": "9a42157299ed4a27bb21474b0238babf",
       "version_major": 2,
       "version_minor": 0
      },
      "text/plain": [
       "Eval:   0%|          | 0/1510 [00:00<?, ?it/s]"
      ]
     },
     "metadata": {},
     "output_type": "display_data"
    },
    {
     "data": {
      "application/vnd.jupyter.widget-view+json": {
       "model_id": "5cda79b8cb4a4c958a472388027b27ac",
       "version_major": 2,
       "version_minor": 0
      },
      "text/plain": [
       "Eval:   0%|          | 0/1513 [00:00<?, ?it/s]"
      ]
     },
     "metadata": {},
     "output_type": "display_data"
    }
   ],
   "source": [
    "import collections\n",
    "\n",
    "trajectories = {}\n",
    "losses_per_traj = {}\n",
    "for j in range(len(indexes)):\n",
    "    # print(j)\n",
    "    # get first observation\n",
    "    com_obs = splits_obs[j]\n",
    "    obs = splits_obs[j][0]\n",
    "    actions_test = splits_action[j]\n",
    "    # max_steps = len(test_data['action'])\n",
    "    max_steps = len(actions_test)\n",
    "    stats = checkpoint['dataset_stats']\n",
    "    # keep a queue of last 2 steps of observations\n",
    "    obs_deque = collections.deque(\n",
    "        [obs] * obs_horizon, maxlen=obs_horizon)\n",
    "\n",
    "    # save visualization and rewards\n",
    "    done = False\n",
    "    step_idx = 0\n",
    "    traj = []\n",
    "    loss_com = []\n",
    "    with tqdm(total=max_steps, desc=\"Eval\") as pbar:\n",
    "        while not done:\n",
    "            B = 1\n",
    "            # stack the last obs_horizon (2) number of observations\n",
    "            obs_seq = np.stack(obs_deque)\n",
    "            # print(\"Obs_sep -\",obs_seq)\n",
    "            # normalize observation\n",
    "            nobs = dproc.normalize_data(obs_seq, stats=stats['obs'])\n",
    "            # print(nobs)\n",
    "            # device transfer\n",
    "            nobs = torch.from_numpy(nobs).to(device, dtype=torch.float32)\n",
    "            # infer action\n",
    "            with torch.no_grad():\n",
    "                # reshape observation to (B,obs_horizon*obs_dim)\n",
    "                obs_cond = nobs.unsqueeze(0).flatten(start_dim=1)\n",
    "                # print(obs_cond.shape)\n",
    "\n",
    "                # initialize action from Guassian noise\n",
    "                noisy_action = torch.randn(\n",
    "                    (B, pred_horizon, action_dim), device=device)\n",
    "                naction = noisy_action\n",
    "\n",
    "                # init scheduler\n",
    "                noise_scheduler.set_timesteps(num_diffusion_iters)\n",
    "\n",
    "                for k in noise_scheduler.timesteps:\n",
    "                    # predict noise\n",
    "                    noise_pred = ema_noise_pred_net(\n",
    "                        sample=naction,\n",
    "                        timestep=k,\n",
    "                        global_cond=obs_cond\n",
    "                    )\n",
    "\n",
    "                    # inverse diffusion step (remove noise)\n",
    "                    naction = noise_scheduler.step(\n",
    "                        model_output=noise_pred,\n",
    "                        timestep=k,\n",
    "                        sample=naction\n",
    "                    ).prev_sample\n",
    "\n",
    "            # unnormalize action\n",
    "            naction = naction.detach().to('cpu').numpy()\n",
    "            # (B, pred_horizon, action_dim)\n",
    "            # print(len(naction[0]))\n",
    "            naction = naction[0]\n",
    "            action_pred = dproc.unnormalize_data(naction, stats=stats['action'])\n",
    "\n",
    "            # only take action_horizon number of actions\n",
    "            start = obs_horizon - 1\n",
    "            end = start + action_horizon\n",
    "            action = action_pred[start:end,:]\n",
    "            traj.extend(action)\n",
    "            losses = []\n",
    "                \n",
    "            for i in range(len(action)):\n",
    "            # loss\n",
    "            # print(\"Action_pred -\",action[0])\n",
    "            # print(\"Action_orignal -\",actions_test[0])\n",
    "            # print(\"Obs_added without pred-\",com_obs[i])\n",
    "                if len(action) > len(actions_test):\n",
    "                    done = True\n",
    "                if done:\n",
    "                    break\n",
    "                loss_test = nn.functional.mse_loss(torch.tensor(action[i]), torch.tensor(actions_test[i]))\n",
    "                action_last = list(action[i])\n",
    "                # print(\"Action_last ---\",action_last)\n",
    "                com_obs_part = list(com_obs[i][len(action_last):])\n",
    "                # print(\"Obs to add\", com_obs_part)\n",
    "                # Concatenating prediction to the obs lists\n",
    "                com_obs[i] = action_last + com_obs_part\n",
    "                # print(\"Obs_added with pred -\",com_obs[i])\n",
    "                obs_deque.append(com_obs[i])\n",
    "                losses.append(loss_test.item())\n",
    "                # update progress bar\n",
    "                step_idx += 1\n",
    "                pbar.update(1)\n",
    "                pbar.set_postfix(loss=np.mean(losses))\n",
    "                # print(i)\n",
    "                if step_idx > max_steps:\n",
    "                    done = True\n",
    "                if done:\n",
    "                    break\n",
    "            com_obs = com_obs[len(action):]\n",
    "            actions_test = actions_test[len(action):]\n",
    "            # com_obs = com_obs[1:]\n",
    "            # actions_test = actions_test[1:]\n",
    "            loss_com.append(np.mean(losses).tolist())\n",
    "    losses_per_traj[f\"{name[j]}\"] = np.nanmean(loss_com)\n",
    "    trajectories[f\"{name[j]}\"] = traj"
   ]
  },
  {
   "cell_type": "code",
   "execution_count": 14,
   "metadata": {},
   "outputs": [
    {
     "name": "stdout",
     "output_type": "stream",
     "text": [
      "0\n",
      "1392\n",
      "1389\n",
      "1\n",
      "1576\n",
      "1568\n",
      "2\n",
      "1592\n",
      "1585\n",
      "3\n",
      "1368\n",
      "1362\n",
      "4\n",
      "1512\n",
      "1510\n",
      "5\n",
      "1520\n",
      "1513\n"
     ]
    }
   ],
   "source": [
    "import csv\n",
    "\n",
    "\n",
    "for index, key in enumerate(trajectories.keys()):\n",
    "    print(index)\n",
    "    # Define the file path or name\n",
    "    file_path = f'{save_dir}/pred_{key}'\n",
    "\n",
    "    save_type='EULER'\n",
    "    # add first rows\n",
    "    _params = {\n",
    "        'QUAT': {'len':7,\n",
    "                    'dof': ['X', 'Y', 'Z', 'w', 'x', 'y', 'z']},\n",
    "        'EULER': {'len':6,\n",
    "                    'dof': ['X', 'Y', 'Z', 'x', 'y', 'z']},\n",
    "        'Vel': {'len':6,\n",
    "                    'dof': ['Xv', 'Yv', 'Zv', 'xv', 'yv', 'zv']}\n",
    "    }\n",
    "    \n",
    "    _SUP_HEADER_ROW = ([\"RigidBody\"] * len(data_test.rigid_bodies) * _params[save_type]['len'] + [\"Marker\"] * len(data_test.markers) * 3)\n",
    "    _FPS_ROW = [\"FPS\", target_fps] + [0.0]*(len(_SUP_HEADER_ROW) - 2)\n",
    "    _rb_col_names = [f\"{rb}_{axis}\" for rb in action_item for axis in _params[save_type]['dof']]\n",
    "    # _obs_col_name = [f\"{rb}_{axis}\" for rb in obs_item for axis in _params[save_type]['dof']]\n",
    "    _mk_col_names = [f\"{mk}_{axis}\" for mk in marker_name_test for axis in ['X', 'Y', 'Z']]\n",
    "    _HEADER_ROW = _rb_col_names + _mk_col_names\n",
    "    print(len(trajectories[key]))\n",
    "    print(len(splits_obs[index]))\n",
    "    min_length = min(len(trajectories[key]), len(splits_obs[index][11:]))\n",
    "\n",
    "\n",
    "    # Combine up to the minimum length\n",
    "    combined_list = [np.concatenate([x, y[len(x):]])  for x, y in zip(np.array(trajectories[key][:min_length]), np.array(splits_obs[index][:min_length]))]\n",
    "\n",
    "    \n",
    "    # Open the file in write mode\n",
    "    with open(file_path, 'w') as file:\n",
    "        writer = csv.writer(file)\n",
    "        writer.writerow(_SUP_HEADER_ROW)\n",
    "        writer.writerow(_FPS_ROW)\n",
    "        writer.writerow(_HEADER_ROW)\n",
    "        writer.writerows(combined_list)"
   ]
  },
  {
   "cell_type": "code",
   "execution_count": null,
   "metadata": {},
   "outputs": [],
   "source": []
  }
 ],
 "metadata": {
  "kernelspec": {
   "display_name": "2nd_model_env",
   "language": "python",
   "name": "python3"
  },
  "language_info": {
   "codemirror_mode": {
    "name": "ipython",
    "version": 3
   },
   "file_extension": ".py",
   "mimetype": "text/x-python",
   "name": "python",
   "nbconvert_exporter": "python",
   "pygments_lexer": "ipython3",
   "version": "3.11.7"
  }
 },
 "nbformat": 4,
 "nbformat_minor": 2
}
